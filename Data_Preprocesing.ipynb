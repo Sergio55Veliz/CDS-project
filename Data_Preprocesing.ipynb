{
  "cells": [
    {
      "cell_type": "code",
      "execution_count": null,
      "metadata": {
        "id": "B3YUfxWeJ0le"
      },
      "outputs": [],
      "source": [
        "import pandas as pd\n",
        "import numpy as np\n",
        "\n",
        "import seaborn as sns\n",
        "import matplotlib.pyplot as plt\n",
        "import plotly.express as px"
      ]
    },
    {
      "cell_type": "code",
      "execution_count": null,
      "metadata": {
        "id": "QvF8QuofHlJb"
      },
      "outputs": [],
      "source": [
        "import os\n",
        "project_path = os.getcwd() # Ubicación del proyecto"
      ]
    },
    {
      "cell_type": "markdown",
      "metadata": {
        "id": "XnW4bIM4Glgp"
      },
      "source": [
        "# Load Data"
      ]
    },
    {
      "cell_type": "code",
      "execution_count": null,
      "metadata": {
        "colab": {
          "base_uri": "https://localhost:8080/"
        },
        "id": "4h9Bw7T2J0b8",
        "outputId": "5077e627-3952-492b-afe0-7161b8ce69a8"
      },
      "outputs": [
        {
          "name": "stdout",
          "output_type": "stream",
          "text": [
            "Drive already mounted at /content/drive; to attempt to forcibly remount, call drive.mount(\"/content/drive\", force_remount=True).\n"
          ]
        }
      ],
      "source": [
        "#from google.colab import drive\n",
        "#drive.mount('/content/drive')"
      ]
    },
    {
      "cell_type": "code",
      "execution_count": null,
      "metadata": {
        "colab": {
          "base_uri": "https://localhost:8080/",
          "height": 669
        },
        "id": "n4dStyHpJ0Z5",
        "outputId": "33358e6c-42fe-4c24-88e5-8594b2f07e14"
      },
      "outputs": [
        {
          "name": "stdout",
          "output_type": "stream",
          "text": [
            "(2121, 21)\n"
          ]
        },
        {
          "data": {
            "application/vnd.google.colaboratory.intrinsic+json": {
              "type": "dataframe",
              "variable_name": "df"
            },
            "text/html": [
              "\n",
              "  <div id=\"df-23adca34-a6b5-44a7-a46e-5d428bc559cc\" class=\"colab-df-container\">\n",
              "    <div>\n",
              "<style scoped>\n",
              "    .dataframe tbody tr th:only-of-type {\n",
              "        vertical-align: middle;\n",
              "    }\n",
              "\n",
              "    .dataframe tbody tr th {\n",
              "        vertical-align: top;\n",
              "    }\n",
              "\n",
              "    .dataframe thead th {\n",
              "        text-align: right;\n",
              "    }\n",
              "</style>\n",
              "<table border=\"1\" class=\"dataframe\">\n",
              "  <thead>\n",
              "    <tr style=\"text-align: right;\">\n",
              "      <th></th>\n",
              "      <th>Order ID</th>\n",
              "      <th>Order Date</th>\n",
              "      <th>Ship Date</th>\n",
              "      <th>Ship Mode</th>\n",
              "      <th>Customer ID</th>\n",
              "      <th>Customer Name</th>\n",
              "      <th>Segment</th>\n",
              "      <th>Country</th>\n",
              "      <th>City</th>\n",
              "      <th>State</th>\n",
              "      <th>...</th>\n",
              "      <th>Region</th>\n",
              "      <th>Product ID</th>\n",
              "      <th>Category</th>\n",
              "      <th>Sub-Category</th>\n",
              "      <th>Product Name</th>\n",
              "      <th>Sales</th>\n",
              "      <th>Quantity</th>\n",
              "      <th>Discount</th>\n",
              "      <th>Profit</th>\n",
              "      <th>Coordinates</th>\n",
              "    </tr>\n",
              "    <tr>\n",
              "      <th>Row ID</th>\n",
              "      <th></th>\n",
              "      <th></th>\n",
              "      <th></th>\n",
              "      <th></th>\n",
              "      <th></th>\n",
              "      <th></th>\n",
              "      <th></th>\n",
              "      <th></th>\n",
              "      <th></th>\n",
              "      <th></th>\n",
              "      <th></th>\n",
              "      <th></th>\n",
              "      <th></th>\n",
              "      <th></th>\n",
              "      <th></th>\n",
              "      <th></th>\n",
              "      <th></th>\n",
              "      <th></th>\n",
              "      <th></th>\n",
              "      <th></th>\n",
              "      <th></th>\n",
              "    </tr>\n",
              "  </thead>\n",
              "  <tbody>\n",
              "    <tr>\n",
              "      <th>1</th>\n",
              "      <td>CA-2016-152156</td>\n",
              "      <td>2016-11-12</td>\n",
              "      <td>2016-11-11</td>\n",
              "      <td>Second Class</td>\n",
              "      <td>CG-12520</td>\n",
              "      <td>Claire Gute</td>\n",
              "      <td>Consumer</td>\n",
              "      <td>United States</td>\n",
              "      <td>Henderson</td>\n",
              "      <td>Kentucky</td>\n",
              "      <td>...</td>\n",
              "      <td>South</td>\n",
              "      <td>FUR-BO-10001798</td>\n",
              "      <td>Furniture</td>\n",
              "      <td>Bookcases</td>\n",
              "      <td>Bush Somerset Collection Bookcase</td>\n",
              "      <td>1.0000</td>\n",
              "      <td>2</td>\n",
              "      <td>0.00</td>\n",
              "      <td>41.9136</td>\n",
              "      <td>(37.8393, -84.27)</td>\n",
              "    </tr>\n",
              "    <tr>\n",
              "      <th>2</th>\n",
              "      <td>CA-2016-152156</td>\n",
              "      <td>2016-11-08</td>\n",
              "      <td>2016-11-11</td>\n",
              "      <td>Second Class</td>\n",
              "      <td>CG-12520</td>\n",
              "      <td>Claire Gute</td>\n",
              "      <td>Consumer</td>\n",
              "      <td>United States</td>\n",
              "      <td>Henderson</td>\n",
              "      <td>Kentucky</td>\n",
              "      <td>...</td>\n",
              "      <td>South</td>\n",
              "      <td>FUR-CH-10000454</td>\n",
              "      <td>Furniture</td>\n",
              "      <td>Chairs</td>\n",
              "      <td>Hon Deluxe Fabric Upholstered Stacking Chairs,...</td>\n",
              "      <td>1.0000</td>\n",
              "      <td>1</td>\n",
              "      <td>0.00</td>\n",
              "      <td>219.5820</td>\n",
              "      <td>(37.8393, -84.27)</td>\n",
              "    </tr>\n",
              "    <tr>\n",
              "      <th>4</th>\n",
              "      <td>US-2015-108966</td>\n",
              "      <td>2015-10-11</td>\n",
              "      <td>2015-10-18</td>\n",
              "      <td>Standard Class</td>\n",
              "      <td>SO-20335</td>\n",
              "      <td>Sean O'Donnell</td>\n",
              "      <td>Consumer</td>\n",
              "      <td>United States</td>\n",
              "      <td>Fort Lauderdale</td>\n",
              "      <td>Florida</td>\n",
              "      <td>...</td>\n",
              "      <td>South</td>\n",
              "      <td>FUR-TA-10000577</td>\n",
              "      <td>Furniture</td>\n",
              "      <td>Tables</td>\n",
              "      <td>Bretford CR4500 Series Slim Rectangular Table</td>\n",
              "      <td>957.5775</td>\n",
              "      <td>5</td>\n",
              "      <td>0.45</td>\n",
              "      <td>-383.0310</td>\n",
              "      <td>(27.9944, -81.7603)</td>\n",
              "    </tr>\n",
              "    <tr>\n",
              "      <th>6</th>\n",
              "      <td>CA-2014-115812</td>\n",
              "      <td>2014-06-09</td>\n",
              "      <td>2014-06-14</td>\n",
              "      <td>Standard Class</td>\n",
              "      <td>BH-11710</td>\n",
              "      <td>Brosina Hoffman</td>\n",
              "      <td>Consumer</td>\n",
              "      <td>United States</td>\n",
              "      <td>Los Angeles</td>\n",
              "      <td>California</td>\n",
              "      <td>...</td>\n",
              "      <td>West</td>\n",
              "      <td>FUR-FU-10001487</td>\n",
              "      <td>Furniture</td>\n",
              "      <td>Furnishings</td>\n",
              "      <td>Eldon Expressions Wood and Plastic Desk Access...</td>\n",
              "      <td>48.8600</td>\n",
              "      <td>1</td>\n",
              "      <td>0.00</td>\n",
              "      <td>14.1694</td>\n",
              "      <td>(36.7783, -119.4179)</td>\n",
              "    </tr>\n",
              "    <tr>\n",
              "      <th>11</th>\n",
              "      <td>CA-2014-115812</td>\n",
              "      <td>2014-06-09</td>\n",
              "      <td>2014-06-14</td>\n",
              "      <td>Standard Class</td>\n",
              "      <td>BH-11710</td>\n",
              "      <td>Brosina Hoffman</td>\n",
              "      <td>Consumer</td>\n",
              "      <td>United States</td>\n",
              "      <td>Los Angeles</td>\n",
              "      <td>California</td>\n",
              "      <td>...</td>\n",
              "      <td>West</td>\n",
              "      <td>FUR-TA-10001539</td>\n",
              "      <td>Furniture</td>\n",
              "      <td>Tables</td>\n",
              "      <td>Chromcraft Rectangular Conference Tables</td>\n",
              "      <td>1706.1840</td>\n",
              "      <td>9</td>\n",
              "      <td>0.20</td>\n",
              "      <td>85.3092</td>\n",
              "      <td>(36.7783, -119.4179)</td>\n",
              "    </tr>\n",
              "  </tbody>\n",
              "</table>\n",
              "<p>5 rows × 21 columns</p>\n",
              "</div>\n",
              "    <div class=\"colab-df-buttons\">\n",
              "\n",
              "  <div class=\"colab-df-container\">\n",
              "    <button class=\"colab-df-convert\" onclick=\"convertToInteractive('df-23adca34-a6b5-44a7-a46e-5d428bc559cc')\"\n",
              "            title=\"Convert this dataframe to an interactive table.\"\n",
              "            style=\"display:none;\">\n",
              "\n",
              "  <svg xmlns=\"http://www.w3.org/2000/svg\" height=\"24px\" viewBox=\"0 -960 960 960\">\n",
              "    <path d=\"M120-120v-720h720v720H120Zm60-500h600v-160H180v160Zm220 220h160v-160H400v160Zm0 220h160v-160H400v160ZM180-400h160v-160H180v160Zm440 0h160v-160H620v160ZM180-180h160v-160H180v160Zm440 0h160v-160H620v160Z\"/>\n",
              "  </svg>\n",
              "    </button>\n",
              "\n",
              "  <style>\n",
              "    .colab-df-container {\n",
              "      display:flex;\n",
              "      gap: 12px;\n",
              "    }\n",
              "\n",
              "    .colab-df-convert {\n",
              "      background-color: #E8F0FE;\n",
              "      border: none;\n",
              "      border-radius: 50%;\n",
              "      cursor: pointer;\n",
              "      display: none;\n",
              "      fill: #1967D2;\n",
              "      height: 32px;\n",
              "      padding: 0 0 0 0;\n",
              "      width: 32px;\n",
              "    }\n",
              "\n",
              "    .colab-df-convert:hover {\n",
              "      background-color: #E2EBFA;\n",
              "      box-shadow: 0px 1px 2px rgba(60, 64, 67, 0.3), 0px 1px 3px 1px rgba(60, 64, 67, 0.15);\n",
              "      fill: #174EA6;\n",
              "    }\n",
              "\n",
              "    .colab-df-buttons div {\n",
              "      margin-bottom: 4px;\n",
              "    }\n",
              "\n",
              "    [theme=dark] .colab-df-convert {\n",
              "      background-color: #3B4455;\n",
              "      fill: #D2E3FC;\n",
              "    }\n",
              "\n",
              "    [theme=dark] .colab-df-convert:hover {\n",
              "      background-color: #434B5C;\n",
              "      box-shadow: 0px 1px 3px 1px rgba(0, 0, 0, 0.15);\n",
              "      filter: drop-shadow(0px 1px 2px rgba(0, 0, 0, 0.3));\n",
              "      fill: #FFFFFF;\n",
              "    }\n",
              "  </style>\n",
              "\n",
              "    <script>\n",
              "      const buttonEl =\n",
              "        document.querySelector('#df-23adca34-a6b5-44a7-a46e-5d428bc559cc button.colab-df-convert');\n",
              "      buttonEl.style.display =\n",
              "        google.colab.kernel.accessAllowed ? 'block' : 'none';\n",
              "\n",
              "      async function convertToInteractive(key) {\n",
              "        const element = document.querySelector('#df-23adca34-a6b5-44a7-a46e-5d428bc559cc');\n",
              "        const dataTable =\n",
              "          await google.colab.kernel.invokeFunction('convertToInteractive',\n",
              "                                                    [key], {});\n",
              "        if (!dataTable) return;\n",
              "\n",
              "        const docLinkHtml = 'Like what you see? Visit the ' +\n",
              "          '<a target=\"_blank\" href=https://colab.research.google.com/notebooks/data_table.ipynb>data table notebook</a>'\n",
              "          + ' to learn more about interactive tables.';\n",
              "        element.innerHTML = '';\n",
              "        dataTable['output_type'] = 'display_data';\n",
              "        await google.colab.output.renderOutput(dataTable, element);\n",
              "        const docLink = document.createElement('div');\n",
              "        docLink.innerHTML = docLinkHtml;\n",
              "        element.appendChild(docLink);\n",
              "      }\n",
              "    </script>\n",
              "  </div>\n",
              "\n",
              "\n",
              "<div id=\"df-1e0350ad-74f2-4218-aedd-468cbeca842b\">\n",
              "  <button class=\"colab-df-quickchart\" onclick=\"quickchart('df-1e0350ad-74f2-4218-aedd-468cbeca842b')\"\n",
              "            title=\"Suggest charts\"\n",
              "            style=\"display:none;\">\n",
              "\n",
              "<svg xmlns=\"http://www.w3.org/2000/svg\" height=\"24px\"viewBox=\"0 0 24 24\"\n",
              "     width=\"24px\">\n",
              "    <g>\n",
              "        <path d=\"M19 3H5c-1.1 0-2 .9-2 2v14c0 1.1.9 2 2 2h14c1.1 0 2-.9 2-2V5c0-1.1-.9-2-2-2zM9 17H7v-7h2v7zm4 0h-2V7h2v10zm4 0h-2v-4h2v4z\"/>\n",
              "    </g>\n",
              "</svg>\n",
              "  </button>\n",
              "\n",
              "<style>\n",
              "  .colab-df-quickchart {\n",
              "      --bg-color: #E8F0FE;\n",
              "      --fill-color: #1967D2;\n",
              "      --hover-bg-color: #E2EBFA;\n",
              "      --hover-fill-color: #174EA6;\n",
              "      --disabled-fill-color: #AAA;\n",
              "      --disabled-bg-color: #DDD;\n",
              "  }\n",
              "\n",
              "  [theme=dark] .colab-df-quickchart {\n",
              "      --bg-color: #3B4455;\n",
              "      --fill-color: #D2E3FC;\n",
              "      --hover-bg-color: #434B5C;\n",
              "      --hover-fill-color: #FFFFFF;\n",
              "      --disabled-bg-color: #3B4455;\n",
              "      --disabled-fill-color: #666;\n",
              "  }\n",
              "\n",
              "  .colab-df-quickchart {\n",
              "    background-color: var(--bg-color);\n",
              "    border: none;\n",
              "    border-radius: 50%;\n",
              "    cursor: pointer;\n",
              "    display: none;\n",
              "    fill: var(--fill-color);\n",
              "    height: 32px;\n",
              "    padding: 0;\n",
              "    width: 32px;\n",
              "  }\n",
              "\n",
              "  .colab-df-quickchart:hover {\n",
              "    background-color: var(--hover-bg-color);\n",
              "    box-shadow: 0 1px 2px rgba(60, 64, 67, 0.3), 0 1px 3px 1px rgba(60, 64, 67, 0.15);\n",
              "    fill: var(--button-hover-fill-color);\n",
              "  }\n",
              "\n",
              "  .colab-df-quickchart-complete:disabled,\n",
              "  .colab-df-quickchart-complete:disabled:hover {\n",
              "    background-color: var(--disabled-bg-color);\n",
              "    fill: var(--disabled-fill-color);\n",
              "    box-shadow: none;\n",
              "  }\n",
              "\n",
              "  .colab-df-spinner {\n",
              "    border: 2px solid var(--fill-color);\n",
              "    border-color: transparent;\n",
              "    border-bottom-color: var(--fill-color);\n",
              "    animation:\n",
              "      spin 1s steps(1) infinite;\n",
              "  }\n",
              "\n",
              "  @keyframes spin {\n",
              "    0% {\n",
              "      border-color: transparent;\n",
              "      border-bottom-color: var(--fill-color);\n",
              "      border-left-color: var(--fill-color);\n",
              "    }\n",
              "    20% {\n",
              "      border-color: transparent;\n",
              "      border-left-color: var(--fill-color);\n",
              "      border-top-color: var(--fill-color);\n",
              "    }\n",
              "    30% {\n",
              "      border-color: transparent;\n",
              "      border-left-color: var(--fill-color);\n",
              "      border-top-color: var(--fill-color);\n",
              "      border-right-color: var(--fill-color);\n",
              "    }\n",
              "    40% {\n",
              "      border-color: transparent;\n",
              "      border-right-color: var(--fill-color);\n",
              "      border-top-color: var(--fill-color);\n",
              "    }\n",
              "    60% {\n",
              "      border-color: transparent;\n",
              "      border-right-color: var(--fill-color);\n",
              "    }\n",
              "    80% {\n",
              "      border-color: transparent;\n",
              "      border-right-color: var(--fill-color);\n",
              "      border-bottom-color: var(--fill-color);\n",
              "    }\n",
              "    90% {\n",
              "      border-color: transparent;\n",
              "      border-bottom-color: var(--fill-color);\n",
              "    }\n",
              "  }\n",
              "</style>\n",
              "\n",
              "  <script>\n",
              "    async function quickchart(key) {\n",
              "      const quickchartButtonEl =\n",
              "        document.querySelector('#' + key + ' button');\n",
              "      quickchartButtonEl.disabled = true;  // To prevent multiple clicks.\n",
              "      quickchartButtonEl.classList.add('colab-df-spinner');\n",
              "      try {\n",
              "        const charts = await google.colab.kernel.invokeFunction(\n",
              "            'suggestCharts', [key], {});\n",
              "      } catch (error) {\n",
              "        console.error('Error during call to suggestCharts:', error);\n",
              "      }\n",
              "      quickchartButtonEl.classList.remove('colab-df-spinner');\n",
              "      quickchartButtonEl.classList.add('colab-df-quickchart-complete');\n",
              "    }\n",
              "    (() => {\n",
              "      let quickchartButtonEl =\n",
              "        document.querySelector('#df-1e0350ad-74f2-4218-aedd-468cbeca842b button');\n",
              "      quickchartButtonEl.style.display =\n",
              "        google.colab.kernel.accessAllowed ? 'block' : 'none';\n",
              "    })();\n",
              "  </script>\n",
              "</div>\n",
              "\n",
              "    </div>\n",
              "  </div>\n"
            ],
            "text/plain": [
              "              Order ID Order Date  Ship Date       Ship Mode Customer ID  \\\n",
              "Row ID                                                                     \n",
              "1       CA-2016-152156 2016-11-12 2016-11-11    Second Class    CG-12520   \n",
              "2       CA-2016-152156 2016-11-08 2016-11-11    Second Class    CG-12520   \n",
              "4       US-2015-108966 2015-10-11 2015-10-18  Standard Class    SO-20335   \n",
              "6       CA-2014-115812 2014-06-09 2014-06-14  Standard Class    BH-11710   \n",
              "11      CA-2014-115812 2014-06-09 2014-06-14  Standard Class    BH-11710   \n",
              "\n",
              "          Customer Name   Segment        Country             City       State  \\\n",
              "Row ID                                                                          \n",
              "1           Claire Gute  Consumer  United States        Henderson    Kentucky   \n",
              "2           Claire Gute  Consumer  United States        Henderson    Kentucky   \n",
              "4        Sean O'Donnell  Consumer  United States  Fort Lauderdale     Florida   \n",
              "6       Brosina Hoffman  Consumer  United States      Los Angeles  California   \n",
              "11      Brosina Hoffman  Consumer  United States      Los Angeles  California   \n",
              "\n",
              "        ...  Region       Product ID   Category Sub-Category  \\\n",
              "Row ID  ...                                                    \n",
              "1       ...   South  FUR-BO-10001798  Furniture    Bookcases   \n",
              "2       ...   South  FUR-CH-10000454  Furniture       Chairs   \n",
              "4       ...   South  FUR-TA-10000577  Furniture       Tables   \n",
              "6       ...    West  FUR-FU-10001487  Furniture  Furnishings   \n",
              "11      ...    West  FUR-TA-10001539  Furniture       Tables   \n",
              "\n",
              "                                             Product Name      Sales  \\\n",
              "Row ID                                                                 \n",
              "1                       Bush Somerset Collection Bookcase     1.0000   \n",
              "2       Hon Deluxe Fabric Upholstered Stacking Chairs,...     1.0000   \n",
              "4           Bretford CR4500 Series Slim Rectangular Table   957.5775   \n",
              "6       Eldon Expressions Wood and Plastic Desk Access...    48.8600   \n",
              "11               Chromcraft Rectangular Conference Tables  1706.1840   \n",
              "\n",
              "        Quantity  Discount    Profit           Coordinates  \n",
              "Row ID                                                      \n",
              "1              2      0.00   41.9136     (37.8393, -84.27)  \n",
              "2              1      0.00  219.5820     (37.8393, -84.27)  \n",
              "4              5      0.45 -383.0310   (27.9944, -81.7603)  \n",
              "6              1      0.00   14.1694  (36.7783, -119.4179)  \n",
              "11             9      0.20   85.3092  (36.7783, -119.4179)  \n",
              "\n",
              "[5 rows x 21 columns]"
            ]
          },
          "execution_count": 57,
          "metadata": {},
          "output_type": "execute_result"
        }
      ],
      "source": [
        "file_path = f'{project_path}/Super_Store_data.csv'\n",
        "df = pd.read_csv(file_path, index_col=[0], parse_dates=['Ship Date', 'Order Date'])\n",
        "print(df.shape)\n",
        "df.head()"
      ]
    },
    {
      "cell_type": "code",
      "execution_count": null,
      "metadata": {
        "colab": {
          "base_uri": "https://localhost:8080/"
        },
        "id": "9lx-MyND-Hoz",
        "outputId": "87666b22-db9f-4635-b270-438fa5eaf2b9"
      },
      "outputs": [
        {
          "name": "stdout",
          "output_type": "stream",
          "text": [
            "<class 'pandas.core.frame.DataFrame'>\n",
            "Int64Index: 2121 entries, 1 to 9991\n",
            "Data columns (total 21 columns):\n",
            " #   Column         Non-Null Count  Dtype         \n",
            "---  ------         --------------  -----         \n",
            " 0   Order ID       2121 non-null   object        \n",
            " 1   Order Date     2121 non-null   datetime64[ns]\n",
            " 2   Ship Date      2121 non-null   datetime64[ns]\n",
            " 3   Ship Mode      2121 non-null   object        \n",
            " 4   Customer ID    2121 non-null   object        \n",
            " 5   Customer Name  2121 non-null   object        \n",
            " 6   Segment        2121 non-null   object        \n",
            " 7   Country        2121 non-null   object        \n",
            " 8   City           2121 non-null   object        \n",
            " 9   State          2121 non-null   object        \n",
            " 10  Postal Code    2121 non-null   int64         \n",
            " 11  Region         2121 non-null   object        \n",
            " 12  Product ID     2121 non-null   object        \n",
            " 13  Category       2121 non-null   object        \n",
            " 14  Sub-Category   2121 non-null   object        \n",
            " 15  Product Name   2121 non-null   object        \n",
            " 16  Sales          2121 non-null   float64       \n",
            " 17  Quantity       2121 non-null   int64         \n",
            " 18  Discount       2121 non-null   float64       \n",
            " 19  Profit         2121 non-null   float64       \n",
            " 20  Coordinates    2121 non-null   object        \n",
            "dtypes: datetime64[ns](2), float64(3), int64(2), object(14)\n",
            "memory usage: 364.5+ KB\n"
          ]
        }
      ],
      "source": [
        "df.info()"
      ]
    },
    {
      "cell_type": "markdown",
      "metadata": {
        "id": "2Pg9Ps6KGogF"
      },
      "source": [
        "# EDA"
      ]
    },
    {
      "cell_type": "code",
      "execution_count": null,
      "metadata": {
        "colab": {
          "base_uri": "https://localhost:8080/",
          "height": 451
        },
        "id": "TM1-RAw8-Hml",
        "outputId": "fbcccfc2-ffe3-4e93-85bd-73e1ceeffe41"
      },
      "outputs": [
        {
          "data": {
            "text/plain": [
              "<Axes: >"
            ]
          },
          "execution_count": 59,
          "metadata": {},
          "output_type": "execute_result"
        },
        {
          "data": {
            "image/png": "[encoded data removed]",
            "text/plain": [
              "<Figure size 640x480 with 1 Axes>"
            ]
          },
          "metadata": {},
          "output_type": "display_data"
        }
      ],
      "source": [
        "df.Sales.hist()"
      ]
    },
    {
      "cell_type": "code",
      "execution_count": null,
      "metadata": {
        "colab": {
          "base_uri": "https://localhost:8080/",
          "height": 490
        },
        "id": "PDqryEQe-Hj6",
        "outputId": "b58b8c22-67c5-42e3-d942-e2afb3d77ca3"
      },
      "outputs": [
        {
          "ename": "KeyError",
          "evalue": "('Order Date', 'Ship Date', 'Sales', 'State', 'City', 'Segment', 'Ship Mode', 'Profit', 'Custumer ID')",
          "output_type": "error",
          "traceback": [
            "\u001b[0;31m---------------------------------------------------------------------------\u001b[0m",
            "\u001b[0;31mKeyError\u001b[0m                                  Traceback (most recent call last)",
            "\u001b[0;32m/usr/local/lib/python3.10/dist-packages/pandas/core/indexes/base.py\u001b[0m in \u001b[0;36mget_loc\u001b[0;34m(self, key, method, tolerance)\u001b[0m\n\u001b[1;32m   3801\u001b[0m             \u001b[0;32mtry\u001b[0m\u001b[0;34m:\u001b[0m\u001b[0;34m\u001b[0m\u001b[0;34m\u001b[0m\u001b[0m\n\u001b[0;32m-> 3802\u001b[0;31m                 \u001b[0;32mreturn\u001b[0m \u001b[0mself\u001b[0m\u001b[0;34m.\u001b[0m\u001b[0m_engine\u001b[0m\u001b[0;34m.\u001b[0m\u001b[0mget_loc\u001b[0m\u001b[0;34m(\u001b[0m\u001b[0mcasted_key\u001b[0m\u001b[0;34m)\u001b[0m\u001b[0;34m\u001b[0m\u001b[0;34m\u001b[0m\u001b[0m\n\u001b[0m\u001b[1;32m   3803\u001b[0m             \u001b[0;32mexcept\u001b[0m \u001b[0mKeyError\u001b[0m \u001b[0;32mas\u001b[0m \u001b[0merr\u001b[0m\u001b[0;34m:\u001b[0m\u001b[0;34m\u001b[0m\u001b[0;34m\u001b[0m\u001b[0m\n",
            "\u001b[0;32m/usr/local/lib/python3.10/dist-packages/pandas/_libs/index.pyx\u001b[0m in \u001b[0;36mpandas._libs.index.IndexEngine.get_loc\u001b[0;34m()\u001b[0m\n",
            "\u001b[0;32m/usr/local/lib/python3.10/dist-packages/pandas/_libs/index.pyx\u001b[0m in \u001b[0;36mpandas._libs.index.IndexEngine.get_loc\u001b[0;34m()\u001b[0m\n",
            "\u001b[0;32mpandas/_libs/hashtable_class_helper.pxi\u001b[0m in \u001b[0;36mpandas._libs.hashtable.PyObjectHashTable.get_item\u001b[0;34m()\u001b[0m\n",
            "\u001b[0;32mpandas/_libs/hashtable_class_helper.pxi\u001b[0m in \u001b[0;36mpandas._libs.hashtable.PyObjectHashTable.get_item\u001b[0;34m()\u001b[0m\n",
            "\u001b[0;31mKeyError\u001b[0m: ('Order Date', 'Ship Date', 'Sales', 'State', 'City', 'Segment', 'Ship Mode', 'Profit', 'Custumer ID')",
            "\nThe above exception was the direct cause of the following exception:\n",
            "\u001b[0;31mKeyError\u001b[0m                                  Traceback (most recent call last)",
            "\u001b[0;32m<ipython-input-60-0e8290fbfa6e>\u001b[0m in \u001b[0;36m<cell line: 1>\u001b[0;34m()\u001b[0m\n\u001b[0;32m----> 1\u001b[0;31m \u001b[0mdf\u001b[0m\u001b[0;34m[\u001b[0m\u001b[0;34m'Order Date'\u001b[0m\u001b[0;34m,\u001b[0m \u001b[0;34m'Ship Date'\u001b[0m\u001b[0;34m,\u001b[0m \u001b[0;34m'Sales'\u001b[0m\u001b[0;34m,\u001b[0m \u001b[0;34m'State'\u001b[0m\u001b[0;34m,\u001b[0m \u001b[0;34m'City'\u001b[0m\u001b[0;34m,\u001b[0m \u001b[0;34m'Segment'\u001b[0m\u001b[0;34m,\u001b[0m \u001b[0;34m'Ship Mode'\u001b[0m\u001b[0;34m,\u001b[0m \u001b[0;34m'Profit'\u001b[0m\u001b[0;34m,\u001b[0m \u001b[0;34m'Custumer ID'\u001b[0m\u001b[0;34m]\u001b[0m\u001b[0;34m\u001b[0m\u001b[0;34m\u001b[0m\u001b[0m\n\u001b[0m",
            "\u001b[0;32m/usr/local/lib/python3.10/dist-packages/pandas/core/frame.py\u001b[0m in \u001b[0;36m__getitem__\u001b[0;34m(self, key)\u001b[0m\n\u001b[1;32m   3805\u001b[0m             \u001b[0;32mif\u001b[0m \u001b[0mself\u001b[0m\u001b[0;34m.\u001b[0m\u001b[0mcolumns\u001b[0m\u001b[0;34m.\u001b[0m\u001b[0mnlevels\u001b[0m \u001b[0;34m>\u001b[0m \u001b[0;36m1\u001b[0m\u001b[0;34m:\u001b[0m\u001b[0;34m\u001b[0m\u001b[0;34m\u001b[0m\u001b[0m\n\u001b[1;32m   3806\u001b[0m                 \u001b[0;32mreturn\u001b[0m \u001b[0mself\u001b[0m\u001b[0;34m.\u001b[0m\u001b[0m_getitem_multilevel\u001b[0m\u001b[0;34m(\u001b[0m\u001b[0mkey\u001b[0m\u001b[0;34m)\u001b[0m\u001b[0;34m\u001b[0m\u001b[0;34m\u001b[0m\u001b[0m\n\u001b[0;32m-> 3807\u001b[0;31m             \u001b[0mindexer\u001b[0m \u001b[0;34m=\u001b[0m \u001b[0mself\u001b[0m\u001b[0;34m.\u001b[0m\u001b[0mcolumns\u001b[0m\u001b[0;34m.\u001b[0m\u001b[0mget_loc\u001b[0m\u001b[0;34m(\u001b[0m\u001b[0mkey\u001b[0m\u001b[0;34m)\u001b[0m\u001b[0;34m\u001b[0m\u001b[0;34m\u001b[0m\u001b[0m\n\u001b[0m\u001b[1;32m   3808\u001b[0m             \u001b[0;32mif\u001b[0m \u001b[0mis_integer\u001b[0m\u001b[0;34m(\u001b[0m\u001b[0mindexer\u001b[0m\u001b[0;34m)\u001b[0m\u001b[0;34m:\u001b[0m\u001b[0;34m\u001b[0m\u001b[0;34m\u001b[0m\u001b[0m\n\u001b[1;32m   3809\u001b[0m                 \u001b[0mindexer\u001b[0m \u001b[0;34m=\u001b[0m \u001b[0;34m[\u001b[0m\u001b[0mindexer\u001b[0m\u001b[0;34m]\u001b[0m\u001b[0;34m\u001b[0m\u001b[0;34m\u001b[0m\u001b[0m\n",
            "\u001b[0;32m/usr/local/lib/python3.10/dist-packages/pandas/core/indexes/base.py\u001b[0m in \u001b[0;36mget_loc\u001b[0;34m(self, key, method, tolerance)\u001b[0m\n\u001b[1;32m   3802\u001b[0m                 \u001b[0;32mreturn\u001b[0m \u001b[0mself\u001b[0m\u001b[0;34m.\u001b[0m\u001b[0m_engine\u001b[0m\u001b[0;34m.\u001b[0m\u001b[0mget_loc\u001b[0m\u001b[0;34m(\u001b[0m\u001b[0mcasted_key\u001b[0m\u001b[0;34m)\u001b[0m\u001b[0;34m\u001b[0m\u001b[0;34m\u001b[0m\u001b[0m\n\u001b[1;32m   3803\u001b[0m             \u001b[0;32mexcept\u001b[0m \u001b[0mKeyError\u001b[0m \u001b[0;32mas\u001b[0m \u001b[0merr\u001b[0m\u001b[0;34m:\u001b[0m\u001b[0;34m\u001b[0m\u001b[0;34m\u001b[0m\u001b[0m\n\u001b[0;32m-> 3804\u001b[0;31m                 \u001b[0;32mraise\u001b[0m \u001b[0mKeyError\u001b[0m\u001b[0;34m(\u001b[0m\u001b[0mkey\u001b[0m\u001b[0;34m)\u001b[0m \u001b[0;32mfrom\u001b[0m \u001b[0merr\u001b[0m\u001b[0;34m\u001b[0m\u001b[0;34m\u001b[0m\u001b[0m\n\u001b[0m\u001b[1;32m   3805\u001b[0m             \u001b[0;32mexcept\u001b[0m \u001b[0mTypeError\u001b[0m\u001b[0;34m:\u001b[0m\u001b[0;34m\u001b[0m\u001b[0;34m\u001b[0m\u001b[0m\n\u001b[1;32m   3806\u001b[0m                 \u001b[0;31m# If we have a listlike key, _check_indexing_error will raise\u001b[0m\u001b[0;34m\u001b[0m\u001b[0;34m\u001b[0m\u001b[0m\n",
            "\u001b[0;31mKeyError\u001b[0m: ('Order Date', 'Ship Date', 'Sales', 'State', 'City', 'Segment', 'Ship Mode', 'Profit', 'Custumer ID')"
          ]
        }
      ],
      "source": [
        "df['Order Date', 'Ship Date', 'Sales', 'State', 'City', 'Segment', 'Ship Mode', 'Profit', 'Custumer ID']"
      ]
    },
    {
      "cell_type": "code",
      "execution_count": null,
      "metadata": {
        "colab": {
          "base_uri": "https://localhost:8080/"
        },
        "id": "OfEj3b60EX6h",
        "outputId": "af9d558f-ced4-4ddc-b96b-92fdbbab35f8"
      },
      "outputs": [
        {
          "data": {
            "text/plain": [
              "array([2, 1, 3, 4])"
            ]
          },
          "execution_count": 61,
          "metadata": {},
          "output_type": "execute_result"
        }
      ],
      "source": [
        "# ¿cuantas veces se repite en el dataset su respectivo valor de 'Order ID'?\n",
        "\n",
        "order_repetitions = df.groupby('Order ID')['Order ID'].transform('count')\n",
        "order_repetitions.unique()\n",
        "# Como máximo incluyen 4 artículos diferentes en el carrito"
      ]
    },
    {
      "cell_type": "code",
      "execution_count": null,
      "metadata": {
        "colab": {
          "base_uri": "https://localhost:8080/",
          "height": 448
        },
        "id": "GVSfwWilEr52",
        "outputId": "170f4b12-2386-49b2-9c9f-2eb12d08a352"
      },
      "outputs": [
        {
          "data": {
            "text/plain": [
              "<Axes: >"
            ]
          },
          "execution_count": 62,
          "metadata": {},
          "output_type": "execute_result"
        },
        {
          "data": {
            "image/png": "[encoded data removed]",
            "text/plain": [
              "<Figure size 640x480 with 1 Axes>"
            ]
          },
          "metadata": {},
          "output_type": "display_data"
        }
      ],
      "source": [
        "# La mayoría de compras se hacen con solo 1 producto\n",
        "order_repetitions.hist()"
      ]
    },
    {
      "cell_type": "code",
      "execution_count": null,
      "metadata": {
        "colab": {
          "base_uri": "https://localhost:8080/"
        },
        "id": "xFalZNANeMwK",
        "outputId": "e4fc06a1-b203-4ced-b12a-c18db13cf1d6"
      },
      "outputs": [
        {
          "data": {
            "text/plain": [
              "Product Name\n",
              "Eldon Wave Desk Accessories      2\n",
              "Eldon Wave Desk Accessories--    2\n",
              "KI Adjustable-Height Table       2\n",
              "Staple-based wall hangings       2\n",
              "Name: Product ID, dtype: int64"
            ]
          },
          "execution_count": 63,
          "metadata": {},
          "output_type": "execute_result"
        }
      ],
      "source": [
        "productName_per_id = df.groupby('Product Name')['Product ID'].nunique()\n",
        "productName_per_id[productName_per_id > 1]\n",
        "# Hay productos asociados a IDs diferentes"
      ]
    },
    {
      "cell_type": "code",
      "execution_count": null,
      "metadata": {
        "colab": {
          "base_uri": "https://localhost:8080/"
        },
        "id": "ElHEhRxFMxSD",
        "outputId": "6de64b20-d7fd-47c9-ca6c-15dd06359180"
      },
      "outputs": [
        {
          "name": "stdout",
          "output_type": "stream",
          "text": [
            "Cantidad total de productos: 541\n",
            "\n",
            "Cantidad por Subcategoría:\n"
          ]
        },
        {
          "data": {
            "text/plain": [
              "Sub-Category\n",
              "Bookcases       73\n",
              "Chairs         127\n",
              "Furnishings    259\n",
              "Tables          82\n",
              "Name: Product Name, dtype: int64"
            ]
          },
          "execution_count": 64,
          "metadata": {},
          "output_type": "execute_result"
        }
      ],
      "source": [
        "# Cantidad de productos en venta\n",
        "print(f\"Cantidad total de productos: {df['Product Name'].unique().shape[0]}\\n\\nCantidad por Subcategoría:\")\n",
        "df.groupby('Sub-Category')['Product Name'].nunique()"
      ]
    },
    {
      "cell_type": "code",
      "execution_count": null,
      "metadata": {
        "colab": {
          "base_uri": "https://localhost:8080/",
          "height": 499
        },
        "id": "YVPAOsNANxmO",
        "outputId": "25d78fda-d41e-4fca-ff32-61ac1d1bf0b4"
      },
      "outputs": [
        {
          "data": {
            "text/plain": [
              "<Axes: xlabel='Order Date'>"
            ]
          },
          "execution_count": 65,
          "metadata": {},
          "output_type": "execute_result"
        },
        {
          "data": {
            "image/png": "[encoded data removed]",
            "text/plain": [
              "<Figure size 1500x500 with 1 Axes>"
            ]
          },
          "metadata": {},
          "output_type": "display_data"
        }
      ],
      "source": [
        "# Tendencia general de la cantidad de compras que hacen los usuarios\n",
        "\n",
        "df.groupby('Order Date')['Order ID'].nunique().groupby(pd.Grouper(freq='M')).sum().plot(figsize=(15, 5))\n",
        "# Notamos que es una tendencia creciente y multiplicativa\n",
        "# Diciembre siempre es nuestro pico respecto al resto de meses\n",
        "# El 2do pico más grande corresponde a Septiembre\n",
        "# A inicios del año hay un bajón en las ventas"
      ]
    },
    {
      "cell_type": "markdown",
      "metadata": {
        "id": "2KMynfm6GMSo"
      },
      "source": [
        "# Data for preprocesing"
      ]
    },
    {
      "cell_type": "code",
      "execution_count": null,
      "metadata": {
        "colab": {
          "base_uri": "https://localhost:8080/",
          "height": 533
        },
        "id": "_awGe7GUMxNm",
        "outputId": "2d71ea81-f93d-4a6b-835c-44c0dcebb4fc"
      },
      "outputs": [
        {
          "name": "stdout",
          "output_type": "stream",
          "text": [
            "(2121, 16)\n"
          ]
        },
        {
          "data": {
            "application/vnd.google.colaboratory.intrinsic+json": {
              "summary": "{\n  \"name\": \"df2\",\n  \"rows\": 2121,\n  \"fields\": [\n    {\n      \"column\": \"Row ID\",\n      \"properties\": {\n        \"dtype\": \"number\",\n        \"std\": 2885,\n        \"min\": 1,\n        \"max\": 9991,\n        \"num_unique_values\": 2121,\n        \"samples\": [\n          8665,\n          7115,\n          1386\n        ],\n        \"semantic_type\": \"\",\n        \"description\": \"\"\n      }\n    },\n    {\n      \"column\": \"Order ID\",\n      \"properties\": {\n        \"dtype\": \"string\",\n        \"num_unique_values\": 1764,\n        \"samples\": [\n          \"CA-2017-143756\",\n          \"CA-2016-144344\",\n          \"CA-2017-144491\"\n        ],\n        \"semantic_type\": \"\",\n        \"description\": \"\"\n      }\n    },\n    {\n      \"column\": \"Customer ID\",\n      \"properties\": {\n        \"dtype\": \"category\",\n        \"num_unique_values\": 707,\n        \"samples\": [\n          \"MM-18280\",\n          \"PH-18790\",\n          \"RO-19780\"\n        ],\n        \"semantic_type\": \"\",\n        \"description\": \"\"\n      }\n    },\n    {\n      \"column\": \"Order Date\",\n      \"properties\": {\n        \"dtype\": \"date\",\n        \"min\": \"2014-01-06 00:00:00\",\n        \"max\": \"2017-12-30 00:00:00\",\n        \"num_unique_values\": 817,\n        \"samples\": [\n          \"2016-07-14 00:00:00\",\n          \"2017-06-06 00:00:00\",\n          \"2017-09-12 00:00:00\"\n        ],\n        \"semantic_type\": \"\",\n        \"description\": \"\"\n      }\n    },\n    {\n      \"column\": \"Ship Date\",\n      \"properties\": {\n        \"dtype\": \"date\",\n        \"min\": \"2014-01-10 00:00:00\",\n        \"max\": \"2018-01-05 00:00:00\",\n        \"num_unique_values\": 960,\n        \"samples\": [\n          \"2014-05-23 00:00:00\",\n          \"2017-08-22 00:00:00\",\n          \"2015-11-05 00:00:00\"\n        ],\n        \"semantic_type\": \"\",\n        \"description\": \"\"\n      }\n    },\n    {\n      \"column\": \"Coordinates\",\n      \"properties\": {\n        \"dtype\": \"category\",\n        \"num_unique_values\": 46,\n        \"samples\": [\n          \"(45.2538, -69.4455)\",\n          \"Unknown\",\n          \"(41.878, -93.0977)\"\n        ],\n        \"semantic_type\": \"\",\n        \"description\": \"\"\n      }\n    },\n    {\n      \"column\": \"State\",\n      \"properties\": {\n        \"dtype\": \"category\",\n        \"num_unique_values\": 47,\n        \"samples\": [\n          \"District of Columbia\",\n          \"Maine\",\n          \"Nebraska\"\n        ],\n        \"semantic_type\": \"\",\n        \"description\": \"\"\n      }\n    },\n    {\n      \"column\": \"City\",\n      \"properties\": {\n        \"dtype\": \"category\",\n        \"num_unique_values\": 371,\n        \"samples\": [\n          \"Westminster\",\n          \"Hackensack\",\n          \"Seattle\"\n        ],\n        \"semantic_type\": \"\",\n        \"description\": \"\"\n      }\n    },\n    {\n      \"column\": \"Segment\",\n      \"properties\": {\n        \"dtype\": \"category\",\n        \"num_unique_values\": 3,\n        \"samples\": [\n          \"Consumer\",\n          \"Corporate\",\n          \"Home Office\"\n        ],\n        \"semantic_type\": \"\",\n        \"description\": \"\"\n      }\n    },\n    {\n      \"column\": \"Ship Mode\",\n      \"properties\": {\n        \"dtype\": \"category\",\n        \"num_unique_values\": 4,\n        \"samples\": [\n          \"Standard Class\",\n          \"Same Day\",\n          \"Second Class\"\n        ],\n        \"semantic_type\": \"\",\n        \"description\": \"\"\n      }\n    },\n    {\n      \"column\": \"Sub-Category\",\n      \"properties\": {\n        \"dtype\": \"category\",\n        \"num_unique_values\": 4,\n        \"samples\": [\n          \"Chairs\",\n          \"Furnishings\",\n          \"Bookcases\"\n        ],\n        \"semantic_type\": \"\",\n        \"description\": \"\"\n      }\n    },\n    {\n      \"column\": \"Product ID\",\n      \"properties\": {\n        \"dtype\": \"category\",\n        \"num_unique_values\": 375,\n        \"samples\": [\n          \"FUR-TA-10001932\",\n          \"FUR-CH-10004698\",\n          \"FUR-CH-10001146\"\n        ],\n        \"semantic_type\": \"\",\n        \"description\": \"\"\n      }\n    },\n    {\n      \"column\": \"Product Name\",\n      \"properties\": {\n        \"dtype\": \"category\",\n        \"num_unique_values\": 380,\n        \"samples\": [\n          \"3M Polarizing Task Lamp with Clamp Arm, Light Gray\",\n          \"Bevis Rectangular Conference Tables\",\n          \"Bush Westfield Collection Bookcases, Dark Cherry Finish\"\n        ],\n        \"semantic_type\": \"\",\n        \"description\": \"\"\n      }\n    },\n    {\n      \"column\": \"Discount\",\n      \"properties\": {\n        \"dtype\": \"number\",\n        \"std\": 0.18154728491496322,\n        \"min\": 0.0,\n        \"max\": 0.7,\n        \"num_unique_values\": 11,\n        \"samples\": [\n          0.6,\n          0.0,\n          0.4\n        ],\n        \"semantic_type\": \"\",\n        \"description\": \"\"\n      }\n    },\n    {\n      \"column\": \"Sales\",\n      \"properties\": {\n        \"dtype\": \"number\",\n        \"std\": 697.9856999277341,\n        \"min\": 1.0,\n        \"max\": 4404.9,\n        \"num_unique_values\": 1598,\n        \"samples\": [\n          493.92,\n          701.372,\n          18.96\n        ],\n        \"semantic_type\": \"\",\n        \"description\": \"\"\n      }\n    },\n    {\n      \"column\": \"Quantity\",\n      \"properties\": {\n        \"dtype\": \"number\",\n        \"std\": 5,\n        \"min\": 1,\n        \"max\": 28,\n        \"num_unique_values\": 28,\n        \"samples\": [\n          8,\n          21,\n          14\n        ],\n        \"semantic_type\": \"\",\n        \"description\": \"\"\n      }\n    },\n    {\n      \"column\": \"Profit\",\n      \"properties\": {\n        \"dtype\": \"number\",\n        \"std\": 136.04924643905227,\n        \"min\": -1862.3124,\n        \"max\": 1013.127,\n        \"num_unique_values\": 1777,\n        \"samples\": [\n          38.024,\n          3.9294,\n          0.4176\n        ],\n        \"semantic_type\": \"\",\n        \"description\": \"\"\n      }\n    }\n  ]\n}",
              "type": "dataframe",
              "variable_name": "df2"
            },
            "text/html": [
              "\n",
              "  <div id=\"df-cde10e89-f5ce-4738-98c7-849f814647f2\" class=\"colab-df-container\">\n",
              "    <div>\n",
              "<style scoped>\n",
              "    .dataframe tbody tr th:only-of-type {\n",
              "        vertical-align: middle;\n",
              "    }\n",
              "\n",
              "    .dataframe tbody tr th {\n",
              "        vertical-align: top;\n",
              "    }\n",
              "\n",
              "    .dataframe thead th {\n",
              "        text-align: right;\n",
              "    }\n",
              "</style>\n",
              "<table border=\"1\" class=\"dataframe\">\n",
              "  <thead>\n",
              "    <tr style=\"text-align: right;\">\n",
              "      <th></th>\n",
              "      <th>Order ID</th>\n",
              "      <th>Customer ID</th>\n",
              "      <th>Order Date</th>\n",
              "      <th>Ship Date</th>\n",
              "      <th>Coordinates</th>\n",
              "      <th>State</th>\n",
              "      <th>City</th>\n",
              "      <th>Segment</th>\n",
              "      <th>Ship Mode</th>\n",
              "      <th>Sub-Category</th>\n",
              "      <th>Product ID</th>\n",
              "      <th>Product Name</th>\n",
              "      <th>Discount</th>\n",
              "      <th>Sales</th>\n",
              "      <th>Quantity</th>\n",
              "      <th>Profit</th>\n",
              "    </tr>\n",
              "    <tr>\n",
              "      <th>Row ID</th>\n",
              "      <th></th>\n",
              "      <th></th>\n",
              "      <th></th>\n",
              "      <th></th>\n",
              "      <th></th>\n",
              "      <th></th>\n",
              "      <th></th>\n",
              "      <th></th>\n",
              "      <th></th>\n",
              "      <th></th>\n",
              "      <th></th>\n",
              "      <th></th>\n",
              "      <th></th>\n",
              "      <th></th>\n",
              "      <th></th>\n",
              "      <th></th>\n",
              "    </tr>\n",
              "  </thead>\n",
              "  <tbody>\n",
              "    <tr>\n",
              "      <th>1</th>\n",
              "      <td>CA-2016-152156</td>\n",
              "      <td>CG-12520</td>\n",
              "      <td>2016-11-12</td>\n",
              "      <td>2016-11-11</td>\n",
              "      <td>(37.8393, -84.27)</td>\n",
              "      <td>Kentucky</td>\n",
              "      <td>Henderson</td>\n",
              "      <td>Consumer</td>\n",
              "      <td>Second Class</td>\n",
              "      <td>Bookcases</td>\n",
              "      <td>FUR-BO-10001798</td>\n",
              "      <td>Bush Somerset Collection Bookcase</td>\n",
              "      <td>0.00</td>\n",
              "      <td>1.0000</td>\n",
              "      <td>2</td>\n",
              "      <td>41.9136</td>\n",
              "    </tr>\n",
              "    <tr>\n",
              "      <th>2</th>\n",
              "      <td>CA-2016-152156</td>\n",
              "      <td>CG-12520</td>\n",
              "      <td>2016-11-08</td>\n",
              "      <td>2016-11-11</td>\n",
              "      <td>(37.8393, -84.27)</td>\n",
              "      <td>Kentucky</td>\n",
              "      <td>Henderson</td>\n",
              "      <td>Consumer</td>\n",
              "      <td>Second Class</td>\n",
              "      <td>Chairs</td>\n",
              "      <td>FUR-CH-10000454</td>\n",
              "      <td>Hon Deluxe Fabric Upholstered Stacking Chairs,...</td>\n",
              "      <td>0.00</td>\n",
              "      <td>1.0000</td>\n",
              "      <td>1</td>\n",
              "      <td>219.5820</td>\n",
              "    </tr>\n",
              "    <tr>\n",
              "      <th>4</th>\n",
              "      <td>US-2015-108966</td>\n",
              "      <td>SO-20335</td>\n",
              "      <td>2015-10-11</td>\n",
              "      <td>2015-10-18</td>\n",
              "      <td>(27.9944, -81.7603)</td>\n",
              "      <td>Florida</td>\n",
              "      <td>Fort Lauderdale</td>\n",
              "      <td>Consumer</td>\n",
              "      <td>Standard Class</td>\n",
              "      <td>Tables</td>\n",
              "      <td>FUR-TA-10000577</td>\n",
              "      <td>Bretford CR4500 Series Slim Rectangular Table</td>\n",
              "      <td>0.45</td>\n",
              "      <td>957.5775</td>\n",
              "      <td>5</td>\n",
              "      <td>-383.0310</td>\n",
              "    </tr>\n",
              "    <tr>\n",
              "      <th>6</th>\n",
              "      <td>CA-2014-115812</td>\n",
              "      <td>BH-11710</td>\n",
              "      <td>2014-06-09</td>\n",
              "      <td>2014-06-14</td>\n",
              "      <td>(36.7783, -119.4179)</td>\n",
              "      <td>California</td>\n",
              "      <td>Los Angeles</td>\n",
              "      <td>Consumer</td>\n",
              "      <td>Standard Class</td>\n",
              "      <td>Furnishings</td>\n",
              "      <td>FUR-FU-10001487</td>\n",
              "      <td>Eldon Expressions Wood and Plastic Desk Access...</td>\n",
              "      <td>0.00</td>\n",
              "      <td>48.8600</td>\n",
              "      <td>1</td>\n",
              "      <td>14.1694</td>\n",
              "    </tr>\n",
              "    <tr>\n",
              "      <th>11</th>\n",
              "      <td>CA-2014-115812</td>\n",
              "      <td>BH-11710</td>\n",
              "      <td>2014-06-09</td>\n",
              "      <td>2014-06-14</td>\n",
              "      <td>(36.7783, -119.4179)</td>\n",
              "      <td>California</td>\n",
              "      <td>Los Angeles</td>\n",
              "      <td>Consumer</td>\n",
              "      <td>Standard Class</td>\n",
              "      <td>Tables</td>\n",
              "      <td>FUR-TA-10001539</td>\n",
              "      <td>Chromcraft Rectangular Conference Tables</td>\n",
              "      <td>0.20</td>\n",
              "      <td>1706.1840</td>\n",
              "      <td>9</td>\n",
              "      <td>85.3092</td>\n",
              "    </tr>\n",
              "  </tbody>\n",
              "</table>\n",
              "</div>\n",
              "    <div class=\"colab-df-buttons\">\n",
              "\n",
              "  <div class=\"colab-df-container\">\n",
              "    <button class=\"colab-df-convert\" onclick=\"convertToInteractive('df-cde10e89-f5ce-4738-98c7-849f814647f2')\"\n",
              "            title=\"Convert this dataframe to an interactive table.\"\n",
              "            style=\"display:none;\">\n",
              "\n",
              "  <svg xmlns=\"http://www.w3.org/2000/svg\" height=\"24px\" viewBox=\"0 -960 960 960\">\n",
              "    <path d=\"M120-120v-720h720v720H120Zm60-500h600v-160H180v160Zm220 220h160v-160H400v160Zm0 220h160v-160H400v160ZM180-400h160v-160H180v160Zm440 0h160v-160H620v160ZM180-180h160v-160H180v160Zm440 0h160v-160H620v160Z\"/>\n",
              "  </svg>\n",
              "    </button>\n",
              "\n",
              "  <style>\n",
              "    .colab-df-container {\n",
              "      display:flex;\n",
              "      gap: 12px;\n",
              "    }\n",
              "\n",
              "    .colab-df-convert {\n",
              "      background-color: #E8F0FE;\n",
              "      border: none;\n",
              "      border-radius: 50%;\n",
              "      cursor: pointer;\n",
              "      display: none;\n",
              "      fill: #1967D2;\n",
              "      height: 32px;\n",
              "      padding: 0 0 0 0;\n",
              "      width: 32px;\n",
              "    }\n",
              "\n",
              "    .colab-df-convert:hover {\n",
              "      background-color: #E2EBFA;\n",
              "      box-shadow: 0px 1px 2px rgba(60, 64, 67, 0.3), 0px 1px 3px 1px rgba(60, 64, 67, 0.15);\n",
              "      fill: #174EA6;\n",
              "    }\n",
              "\n",
              "    .colab-df-buttons div {\n",
              "      margin-bottom: 4px;\n",
              "    }\n",
              "\n",
              "    [theme=dark] .colab-df-convert {\n",
              "      background-color: #3B4455;\n",
              "      fill: #D2E3FC;\n",
              "    }\n",
              "\n",
              "    [theme=dark] .colab-df-convert:hover {\n",
              "      background-color: #434B5C;\n",
              "      box-shadow: 0px 1px 3px 1px rgba(0, 0, 0, 0.15);\n",
              "      filter: drop-shadow(0px 1px 2px rgba(0, 0, 0, 0.3));\n",
              "      fill: #FFFFFF;\n",
              "    }\n",
              "  </style>\n",
              "\n",
              "    <script>\n",
              "      const buttonEl =\n",
              "        document.querySelector('#df-cde10e89-f5ce-4738-98c7-849f814647f2 button.colab-df-convert');\n",
              "      buttonEl.style.display =\n",
              "        google.colab.kernel.accessAllowed ? 'block' : 'none';\n",
              "\n",
              "      async function convertToInteractive(key) {\n",
              "        const element = document.querySelector('#df-cde10e89-f5ce-4738-98c7-849f814647f2');\n",
              "        const dataTable =\n",
              "          await google.colab.kernel.invokeFunction('convertToInteractive',\n",
              "                                                    [key], {});\n",
              "        if (!dataTable) return;\n",
              "\n",
              "        const docLinkHtml = 'Like what you see? Visit the ' +\n",
              "          '<a target=\"_blank\" href=https://colab.research.google.com/notebooks/data_table.ipynb>data table notebook</a>'\n",
              "          + ' to learn more about interactive tables.';\n",
              "        element.innerHTML = '';\n",
              "        dataTable['output_type'] = 'display_data';\n",
              "        await google.colab.output.renderOutput(dataTable, element);\n",
              "        const docLink = document.createElement('div');\n",
              "        docLink.innerHTML = docLinkHtml;\n",
              "        element.appendChild(docLink);\n",
              "      }\n",
              "    </script>\n",
              "  </div>\n",
              "\n",
              "\n",
              "<div id=\"df-654f638e-5ae4-409e-badf-bf5d41031f2a\">\n",
              "  <button class=\"colab-df-quickchart\" onclick=\"quickchart('df-654f638e-5ae4-409e-badf-bf5d41031f2a')\"\n",
              "            title=\"Suggest charts\"\n",
              "            style=\"display:none;\">\n",
              "\n",
              "<svg xmlns=\"http://www.w3.org/2000/svg\" height=\"24px\"viewBox=\"0 0 24 24\"\n",
              "     width=\"24px\">\n",
              "    <g>\n",
              "        <path d=\"M19 3H5c-1.1 0-2 .9-2 2v14c0 1.1.9 2 2 2h14c1.1 0 2-.9 2-2V5c0-1.1-.9-2-2-2zM9 17H7v-7h2v7zm4 0h-2V7h2v10zm4 0h-2v-4h2v4z\"/>\n",
              "    </g>\n",
              "</svg>\n",
              "  </button>\n",
              "\n",
              "<style>\n",
              "  .colab-df-quickchart {\n",
              "      --bg-color: #E8F0FE;\n",
              "      --fill-color: #1967D2;\n",
              "      --hover-bg-color: #E2EBFA;\n",
              "      --hover-fill-color: #174EA6;\n",
              "      --disabled-fill-color: #AAA;\n",
              "      --disabled-bg-color: #DDD;\n",
              "  }\n",
              "\n",
              "  [theme=dark] .colab-df-quickchart {\n",
              "      --bg-color: #3B4455;\n",
              "      --fill-color: #D2E3FC;\n",
              "      --hover-bg-color: #434B5C;\n",
              "      --hover-fill-color: #FFFFFF;\n",
              "      --disabled-bg-color: #3B4455;\n",
              "      --disabled-fill-color: #666;\n",
              "  }\n",
              "\n",
              "  .colab-df-quickchart {\n",
              "    background-color: var(--bg-color);\n",
              "    border: none;\n",
              "    border-radius: 50%;\n",
              "    cursor: pointer;\n",
              "    display: none;\n",
              "    fill: var(--fill-color);\n",
              "    height: 32px;\n",
              "    padding: 0;\n",
              "    width: 32px;\n",
              "  }\n",
              "\n",
              "  .colab-df-quickchart:hover {\n",
              "    background-color: var(--hover-bg-color);\n",
              "    box-shadow: 0 1px 2px rgba(60, 64, 67, 0.3), 0 1px 3px 1px rgba(60, 64, 67, 0.15);\n",
              "    fill: var(--button-hover-fill-color);\n",
              "  }\n",
              "\n",
              "  .colab-df-quickchart-complete:disabled,\n",
              "  .colab-df-quickchart-complete:disabled:hover {\n",
              "    background-color: var(--disabled-bg-color);\n",
              "    fill: var(--disabled-fill-color);\n",
              "    box-shadow: none;\n",
              "  }\n",
              "\n",
              "  .colab-df-spinner {\n",
              "    border: 2px solid var(--fill-color);\n",
              "    border-color: transparent;\n",
              "    border-bottom-color: var(--fill-color);\n",
              "    animation:\n",
              "      spin 1s steps(1) infinite;\n",
              "  }\n",
              "\n",
              "  @keyframes spin {\n",
              "    0% {\n",
              "      border-color: transparent;\n",
              "      border-bottom-color: var(--fill-color);\n",
              "      border-left-color: var(--fill-color);\n",
              "    }\n",
              "    20% {\n",
              "      border-color: transparent;\n",
              "      border-left-color: var(--fill-color);\n",
              "      border-top-color: var(--fill-color);\n",
              "    }\n",
              "    30% {\n",
              "      border-color: transparent;\n",
              "      border-left-color: var(--fill-color);\n",
              "      border-top-color: var(--fill-color);\n",
              "      border-right-color: var(--fill-color);\n",
              "    }\n",
              "    40% {\n",
              "      border-color: transparent;\n",
              "      border-right-color: var(--fill-color);\n",
              "      border-top-color: var(--fill-color);\n",
              "    }\n",
              "    60% {\n",
              "      border-color: transparent;\n",
              "      border-right-color: var(--fill-color);\n",
              "    }\n",
              "    80% {\n",
              "      border-color: transparent;\n",
              "      border-right-color: var(--fill-color);\n",
              "      border-bottom-color: var(--fill-color);\n",
              "    }\n",
              "    90% {\n",
              "      border-color: transparent;\n",
              "      border-bottom-color: var(--fill-color);\n",
              "    }\n",
              "  }\n",
              "</style>\n",
              "\n",
              "  <script>\n",
              "    async function quickchart(key) {\n",
              "      const quickchartButtonEl =\n",
              "        document.querySelector('#' + key + ' button');\n",
              "      quickchartButtonEl.disabled = true;  // To prevent multiple clicks.\n",
              "      quickchartButtonEl.classList.add('colab-df-spinner');\n",
              "      try {\n",
              "        const charts = await google.colab.kernel.invokeFunction(\n",
              "            'suggestCharts', [key], {});\n",
              "      } catch (error) {\n",
              "        console.error('Error during call to suggestCharts:', error);\n",
              "      }\n",
              "      quickchartButtonEl.classList.remove('colab-df-spinner');\n",
              "      quickchartButtonEl.classList.add('colab-df-quickchart-complete');\n",
              "    }\n",
              "    (() => {\n",
              "      let quickchartButtonEl =\n",
              "        document.querySelector('#df-654f638e-5ae4-409e-badf-bf5d41031f2a button');\n",
              "      quickchartButtonEl.style.display =\n",
              "        google.colab.kernel.accessAllowed ? 'block' : 'none';\n",
              "    })();\n",
              "  </script>\n",
              "</div>\n",
              "\n",
              "    </div>\n",
              "  </div>\n"
            ],
            "text/plain": [
              "              Order ID Customer ID Order Date  Ship Date  \\\n",
              "Row ID                                                     \n",
              "1       CA-2016-152156    CG-12520 2016-11-12 2016-11-11   \n",
              "2       CA-2016-152156    CG-12520 2016-11-08 2016-11-11   \n",
              "4       US-2015-108966    SO-20335 2015-10-11 2015-10-18   \n",
              "6       CA-2014-115812    BH-11710 2014-06-09 2014-06-14   \n",
              "11      CA-2014-115812    BH-11710 2014-06-09 2014-06-14   \n",
              "\n",
              "                 Coordinates       State             City   Segment  \\\n",
              "Row ID                                                                \n",
              "1          (37.8393, -84.27)    Kentucky        Henderson  Consumer   \n",
              "2          (37.8393, -84.27)    Kentucky        Henderson  Consumer   \n",
              "4        (27.9944, -81.7603)     Florida  Fort Lauderdale  Consumer   \n",
              "6       (36.7783, -119.4179)  California      Los Angeles  Consumer   \n",
              "11      (36.7783, -119.4179)  California      Los Angeles  Consumer   \n",
              "\n",
              "             Ship Mode Sub-Category       Product ID  \\\n",
              "Row ID                                                 \n",
              "1         Second Class    Bookcases  FUR-BO-10001798   \n",
              "2         Second Class       Chairs  FUR-CH-10000454   \n",
              "4       Standard Class       Tables  FUR-TA-10000577   \n",
              "6       Standard Class  Furnishings  FUR-FU-10001487   \n",
              "11      Standard Class       Tables  FUR-TA-10001539   \n",
              "\n",
              "                                             Product Name  Discount  \\\n",
              "Row ID                                                                \n",
              "1                       Bush Somerset Collection Bookcase      0.00   \n",
              "2       Hon Deluxe Fabric Upholstered Stacking Chairs,...      0.00   \n",
              "4           Bretford CR4500 Series Slim Rectangular Table      0.45   \n",
              "6       Eldon Expressions Wood and Plastic Desk Access...      0.00   \n",
              "11               Chromcraft Rectangular Conference Tables      0.20   \n",
              "\n",
              "            Sales  Quantity    Profit  \n",
              "Row ID                                 \n",
              "1          1.0000         2   41.9136  \n",
              "2          1.0000         1  219.5820  \n",
              "4        957.5775         5 -383.0310  \n",
              "6         48.8600         1   14.1694  \n",
              "11      1706.1840         9   85.3092  "
            ]
          },
          "execution_count": 66,
          "metadata": {},
          "output_type": "execute_result"
        }
      ],
      "source": [
        "necessary_features = ['Order ID', 'Customer ID', 'Order Date', 'Ship Date', 'Coordinates', 'State', 'City', 'Segment', 'Ship Mode', 'Sub-Category', 'Product ID', 'Product Name', 'Discount', 'Sales', 'Quantity', 'Profit']\n",
        "df2 = df.loc[:, necessary_features]\n",
        "df2.loc[:, 'Product Name'] = df2['Product Name'].str.replace('--', '')\n",
        "\n",
        "print(df2.shape)\n",
        "df2.head()"
      ]
    },
    {
      "cell_type": "markdown",
      "metadata": {
        "id": "6hoJ0Hhf_y_6"
      },
      "source": [
        "# Pruning"
      ]
    },
    {
      "cell_type": "markdown",
      "metadata": {
        "id": "Jqe9zi0oH7hB"
      },
      "source": [
        "## Criterio: `Sales`\n",
        "\n",
        "Dividiremos en 3 partes para que"
      ]
    },
    {
      "cell_type": "markdown",
      "metadata": {
        "id": "_9lUHztbJYr3"
      },
      "source": [
        "### Valores de venta muy pequeños  **y**  Profit (Ganancias) ilógicas\n",
        "\n",
        "Es imposible que la ganancia de una venta sea mucho mayor al precio que cobraste por ella. Esto se explica con la ecuación:\n",
        "\n",
        "`profit = income - cost_of_production`\n",
        "\n",
        "Para que `profit > income` → `cost_of_production < 0`. **Por absurdo** esto es falso, por lo que descartamos los registros con estos valores."
      ]
    },
    {
      "cell_type": "code",
      "execution_count": null,
      "metadata": {
        "id": "5J9iKwOSILhn"
      },
      "outputs": [],
      "source": [
        "df2 = df2[(df2.Sales>df2.Profit) & (df2.Sales>1)]"
      ]
    },
    {
      "cell_type": "markdown",
      "metadata": {
        "id": "yAQLsv9JIWim"
      },
      "source": [
        "### Outliers\n",
        "\n",
        "Dividiremos en 3 partes devido a que el análisis de outliers depende de la cantidad de registros que poseamos de nuestros grupos"
      ]
    },
    {
      "cell_type": "code",
      "execution_count": null,
      "metadata": {
        "id": "J4VonJRVJLFE"
      },
      "outputs": [],
      "source": [
        "# Creamos columnas útiles para el análisis de outliers para los 3 casos a continuación\n",
        "\n",
        "df2['unit_value'] = df2.Sales/df2.Quantity\n",
        "df2['orderId_count'] = df2.groupby('Product ID')['Order ID'].transform('nunique')\n",
        "df2['unit_value_median'] = df2.groupby('Product ID')['unit_value'].transform('median')"
      ]
    },
    {
      "cell_type": "markdown",
      "metadata": {
        "id": "u8E4EMHBQwba"
      },
      "source": [
        "#### Identificamos Outliers"
      ]
    },
    {
      "cell_type": "markdown",
      "metadata": {
        "id": "cMsMAqXA_2F2"
      },
      "source": [
        "##### Para valores atipicos para productos que han sido comprado solo 2 veces\n",
        "\n",
        "Al poseer solo 2 registros por grupo es totalmente imposible aplicar IQR y la media aquí no tiene sentido porque tendrá la misma ditancia entre los dos valores.\n",
        "\n",
        "Debido a esto, solo eliminaremos los valores relativamente más lejanos al valor máximo entre los dos."
      ]
    },
    {
      "cell_type": "code",
      "execution_count": null,
      "metadata": {
        "id": "Rit4LErw_Rc0"
      },
      "outputs": [],
      "source": [
        "mask_repeated_2 = df2.orderId_count==2\n",
        "\n",
        "max_val = df2.groupby('Product ID')['unit_value'].transform('max')\n",
        "min_val = df2.groupby('Product ID')['unit_value'].transform('min')\n",
        "absolute_difference_2 = np.abs(min_val/max_val -1)\n",
        "\n",
        "condition_repeated_2 = (absolute_difference_2<=0.4) & mask_repeated_2"
      ]
    },
    {
      "cell_type": "code",
      "execution_count": null,
      "metadata": {
        "colab": {
          "base_uri": "https://localhost:8080/"
        },
        "id": "gQSEPSFeLFyM",
        "outputId": "67a58ba0-d10a-47ac-bd67-5ce30246c903"
      },
      "outputs": [
        {
          "data": {
            "image/png": "[encoded data removed]",
            "text/plain": [
              "<Figure size 640x480 with 1 Axes>"
            ]
          },
          "metadata": {},
          "output_type": "display_data"
        }
      ],
      "source": [
        "absolute_difference_2.hist()\n",
        "plt.show()"
      ]
    },
    {
      "cell_type": "code",
      "execution_count": null,
      "metadata": {
        "colab": {
          "base_uri": "https://localhost:8080/"
        },
        "id": "k_zjzxinNXwI",
        "outputId": "f0eb6a4d-6baa-497a-8dbc-c430ea7c4ff2"
      },
      "outputs": [
        {
          "data": {
            "image/png": "[encoded data removed]",
            "text/plain": [
              "<Figure size 640x480 with 1 Axes>"
            ]
          },
          "metadata": {},
          "output_type": "display_data"
        }
      ],
      "source": [
        "min_val.hist()\n",
        "plt.show()"
      ]
    },
    {
      "cell_type": "code",
      "execution_count": null,
      "metadata": {
        "colab": {
          "base_uri": "https://localhost:8080/"
        },
        "id": "qKsQRwfqNXjV",
        "outputId": "a690ad84-6165-4e71-c232-74a0fcaa63ca"
      },
      "outputs": [
        {
          "data": {
            "image/png": "[encoded data removed]",
            "text/plain": [
              "<Figure size 640x480 with 1 Axes>"
            ]
          },
          "metadata": {},
          "output_type": "display_data"
        }
      ],
      "source": [
        "max_val.hist()\n",
        "plt.show()"
      ]
    },
    {
      "cell_type": "markdown",
      "metadata": {
        "id": "HwGOHnXgHx8X"
      },
      "source": [
        "##### Para valores atípicos para productos que han sido comprados de 3 - 5 veces\n",
        "\n",
        "Por tener pocos datos aún no podemos aplicar método de IQR.\n",
        "\n",
        "Debido a esto, aplicamos nuestra medida de distancia relacionada a la mediana. `absolute_difference_2_5` responde a ¿Cuál es el % absoluto de diferencia entre el valor analizada y la mediana del grupo?\n",
        "\n",
        "Este valor puede ser positivo si `unit_value > unit_value_median` y negativo en el caso contrario. Por eso es necesario aplicar un valor absoluto a la operación."
      ]
    },
    {
      "cell_type": "code",
      "execution_count": null,
      "metadata": {
        "id": "ljjMk77RLAAy"
      },
      "outputs": [],
      "source": [
        "mask_repeated_3_5 = (df2.orderId_count>2) & (df2.orderId_count<6)\n",
        "absolute_difference_3_5 = np.abs(df2.unit_value/df2.unit_value_median -1)\n",
        "\n",
        "condition_repeated_3_5 = (absolute_difference_3_5<=0.4) & mask_repeated_3_5"
      ]
    },
    {
      "cell_type": "code",
      "execution_count": null,
      "metadata": {
        "colab": {
          "base_uri": "https://localhost:8080/"
        },
        "id": "ziDrYOhOK_5d",
        "outputId": "ed3be320-fd90-4e84-ef5f-58ba3b234423"
      },
      "outputs": [
        {
          "data": {
            "text/plain": [
              "<Axes: >"
            ]
          },
          "execution_count": 74,
          "metadata": {},
          "output_type": "execute_result"
        },
        {
          "data": {
            "image/png": "[encoded data removed]",
            "text/plain": [
              "<Figure size 1800x400 with 1 Axes>"
            ]
          },
          "metadata": {},
          "output_type": "display_data"
        }
      ],
      "source": [
        "absolute_difference_3_5[absolute_difference_3_5<20].hist(bins=50, figsize=(18, 4))"
      ]
    },
    {
      "cell_type": "markdown",
      "metadata": {
        "id": "QqH-PVxBH4Ui"
      },
      "source": [
        "##### Para valores atípicos para productos que han sido comprados de 6 o más veces"
      ]
    },
    {
      "cell_type": "code",
      "execution_count": null,
      "metadata": {
        "id": "0hXv8fTaMiOK"
      },
      "outputs": [],
      "source": [
        "# Funciones para calcular el Rango Intercuatil\n",
        "\n",
        "th = 1.5\n",
        "def lower_bound(x):\n",
        "    x = x.copy(deep=True)\n",
        "    Q1 = x.quantile(0.25)\n",
        "    Q3 = x.quantile(0.75)\n",
        "    return Q1 - th * (Q3 - Q1)\n",
        "\n",
        "def upper_bound(x):\n",
        "    x = x.copy(deep=True)\n",
        "    Q1 = x.quantile(0.25)\n",
        "    Q3 = x.quantile(0.75)\n",
        "    return Q1 + th * (Q3 - Q1)"
      ]
    },
    {
      "cell_type": "code",
      "execution_count": null,
      "metadata": {
        "id": "3rgmnPpr-2W9"
      },
      "outputs": [],
      "source": [
        "mask_repeated_6more = df2.orderId_count>5\n",
        "\n",
        "lower_bound_values = df2.groupby('Product ID')['unit_value'].transform(lower_bound)\n",
        "upper_bound_values = df2.groupby('Product ID')['unit_value'].transform(upper_bound)\n",
        "\n",
        "condition_repeated_6more = ((df2.unit_value > lower_bound_values) & (df2.unit_value < upper_bound_values)) & mask_repeated_6more"
      ]
    },
    {
      "cell_type": "code",
      "execution_count": null,
      "metadata": {
        "colab": {
          "base_uri": "https://localhost:8080/"
        },
        "id": "DUlAAZFL9ilO",
        "outputId": "7215672f-188c-4609-dd35-340cdb9d35c1"
      },
      "outputs": [
        {
          "data": {
            "image/png": "[encoded data removed]",
            "text/plain": [
              "<Figure size 640x480 with 1 Axes>"
            ]
          },
          "metadata": {},
          "output_type": "display_data"
        }
      ],
      "source": [
        "df2[~condition_repeated_6more].unit_value.hist()\n",
        "plt.show()"
      ]
    },
    {
      "cell_type": "code",
      "execution_count": null,
      "metadata": {
        "id": "azKqVAknNnHT"
      },
      "outputs": [],
      "source": []
    },
    {
      "cell_type": "markdown",
      "metadata": {
        "id": "9qcAOZKGQqBi"
      },
      "source": [
        "#### Eliminamos los outliers"
      ]
    },
    {
      "cell_type": "code",
      "execution_count": null,
      "metadata": {
        "colab": {
          "base_uri": "https://localhost:8080/"
        },
        "id": "obmwKX-NRHDV",
        "outputId": "5a34ec11-3eb4-40fd-c51e-ec357d0d3c27"
      },
      "outputs": [
        {
          "name": "stdout",
          "output_type": "stream",
          "text": [
            "Antes de eliminar outliers: (2121, 21)\n",
            "Luego de eliminar outliers: (1474, 17)\n",
            "Total de registros eliminados: 647\n",
            "\n",
            "\n",
            "<class 'pandas.core.frame.DataFrame'>\n",
            "Int64Index: 1474 entries, 4 to 9990\n",
            "Data columns (total 17 columns):\n",
            " #   Column        Non-Null Count  Dtype         \n",
            "---  ------        --------------  -----         \n",
            " 0   Order ID      1474 non-null   object        \n",
            " 1   Customer ID   1474 non-null   object        \n",
            " 2   Order Date    1474 non-null   datetime64[ns]\n",
            " 3   Ship Date     1474 non-null   datetime64[ns]\n",
            " 4   Coordinates   1474 non-null   object        \n",
            " 5   State         1474 non-null   object        \n",
            " 6   City          1474 non-null   object        \n",
            " 7   Segment       1474 non-null   object        \n",
            " 8   Ship Mode     1474 non-null   object        \n",
            " 9   Sub-Category  1474 non-null   object        \n",
            " 10  Product ID    1474 non-null   object        \n",
            " 11  Product Name  1474 non-null   object        \n",
            " 12  Discount      1474 non-null   float64       \n",
            " 13  Sales         1474 non-null   float64       \n",
            " 14  Quantity      1474 non-null   int64         \n",
            " 15  Profit        1474 non-null   float64       \n",
            " 16  unit_value    1474 non-null   float64       \n",
            "dtypes: datetime64[ns](2), float64(4), int64(1), object(10)\n",
            "memory usage: 207.3+ KB\n"
          ]
        }
      ],
      "source": [
        "df2 = df2[(df2.orderId_count==1) | condition_repeated_2 | condition_repeated_3_5 | condition_repeated_6more].copy(deep=True)\n",
        "df2.drop(['orderId_count', 'unit_value_median'], axis=1, inplace=True)\n",
        "\n",
        "print(f'Antes de eliminar outliers: {df.shape}')\n",
        "print(f'Luego de eliminar outliers: {df2.shape}')\n",
        "print(f'Total de registros eliminados: {df.shape[0]-df2.shape[0]}\\n\\n')\n",
        "df2.info()"
      ]
    },
    {
      "cell_type": "markdown",
      "metadata": {
        "id": "tgCxFO0XUjQn"
      },
      "source": [
        "# Feature Engeniering"
      ]
    },
    {
      "cell_type": "markdown",
      "metadata": {
        "id": "ZAkeiSKlVbDL"
      },
      "source": [
        "## Feature Creation"
      ]
    },
    {
      "cell_type": "markdown",
      "metadata": {
        "id": "tJDUz0oNFeEZ"
      },
      "source": [
        "Recordemos que anteriormente, en la sección de **Prunning** ya creamos `'unit_value'`\n",
        "\n",
        "Este valor representa el valor unitario de precio a la venta del producto."
      ]
    },
    {
      "cell_type": "markdown",
      "metadata": {
        "id": "NcOK0mM3D50J"
      },
      "source": [
        "### Date features"
      ]
    },
    {
      "cell_type": "code",
      "execution_count": null,
      "metadata": {
        "id": "qdhFCpd7RHaE"
      },
      "outputs": [],
      "source": [
        "#@title <code>'Season'</code> en la que la orden se efectuó\n",
        "\n",
        "# adding the season in base of the month\n",
        "for index, date in df2['Order Date'].items():\n",
        "  if(date.month>=3 and date.month<6):\n",
        "    df2.at[index, \"Season\"]='Spring'\n",
        "  elif(date.month>=6 and date.month<9):\n",
        "    df2.at[index, \"Season\"]='Summer'\n",
        "  elif(date.month>=9 and date.month<12):\n",
        "    df2.at[index, \"Season\"]='Fall'\n",
        "  else:\n",
        "   df2.at[index, \"Season\"]='Winter'"
      ]
    },
    {
      "cell_type": "code",
      "execution_count": null,
      "metadata": {
        "id": "gVpLFLo2RHX8"
      },
      "outputs": [],
      "source": [
        "#@title <code>'period'</code> entre la fecha de compra más reciente realizada y la fecha de facturación\n",
        "\n",
        "maxfecha = df2['Order Date'].max() # esta fecha se corresponde con la transacción (compra) más reciente realizada por cualquier cliente\n",
        "df2['period'] = maxfecha - df2['Order Date']"
      ]
    },
    {
      "cell_type": "code",
      "execution_count": null,
      "metadata": {
        "id": "grDEpaQ5Em2V"
      },
      "outputs": [],
      "source": [
        "#@title <code>'year'</code>, <code>'month'</code>, <code>'day_of_week'</code> en el que la orden se efectuó\n",
        "\n",
        "df2['year'] = df2['Order Date'].dt.year\n",
        "df2['month'] = df2['Order Date'].dt.month\n",
        "df2['day_of_week'] = df2['Order Date'].dt.day_of_week"
      ]
    },
    {
      "cell_type": "markdown",
      "metadata": {
        "id": "gep0Abl3F34s"
      },
      "source": [
        "### Order the features"
      ]
    },
    {
      "cell_type": "code",
      "execution_count": null,
      "metadata": {
        "colab": {
          "base_uri": "https://localhost:8080/"
        },
        "id": "VV9nBYhtGACH",
        "outputId": "c0591e5f-a556-466f-acbf-eb086e94b019"
      },
      "outputs": [
        {
          "data": {
            "text/plain": [
              "Index(['Order ID', 'Customer ID', 'Order Date', 'Ship Date', 'Coordinates',\n",
              "       'State', 'City', 'Segment', 'Ship Mode', 'Sub-Category', 'Product ID',\n",
              "       'Product Name', 'Discount', 'Sales', 'Quantity', 'Profit', 'unit_value',\n",
              "       'Season', 'period', 'year', 'month', 'day_of_week'],\n",
              "      dtype='object')"
            ]
          },
          "execution_count": 82,
          "metadata": {},
          "output_type": "execute_result"
        }
      ],
      "source": [
        "df2.columns"
      ]
    },
    {
      "cell_type": "code",
      "execution_count": null,
      "metadata": {
        "colab": {
          "base_uri": "https://localhost:8080/"
        },
        "id": "iF-4BXSAU3oZ",
        "outputId": "cfb9a122-2f1b-435b-e5e5-3128043ddf6e"
      },
      "outputs": [
        {
          "name": "stdout",
          "output_type": "stream",
          "text": [
            "(1474, 22)\n"
          ]
        }
      ],
      "source": [
        "features = ['Order ID', 'Customer ID', 'Ship Mode', 'Order Date', 'Ship Date',\n",
        "            'period', 'Season', 'year', 'month', 'day_of_week', 'Coordinates',\n",
        "            'State', 'City', 'Segment', 'Sub-Category', 'Product ID', 'Product Name',\n",
        "            'Discount', 'Sales', 'Quantity', 'unit_value', 'Profit']\n",
        "df2 = df2[features]\n",
        "print(df2.shape)\n"
      ]
    },
    {
      "cell_type": "code",
      "execution_count": null,
      "metadata": {
        "id": "Fu9Ah48RU3l_"
      },
      "outputs": [],
      "source": []
    },
    {
      "cell_type": "markdown",
      "metadata": {
        "id": "vlJyxR2XBuyU"
      },
      "source": [
        "## Feature Scaling"
      ]
    },
    {
      "cell_type": "code",
      "execution_count": null,
      "metadata": {
        "id": "b-NBCrxoB06U"
      },
      "outputs": [],
      "source": []
    },
    {
      "cell_type": "code",
      "execution_count": null,
      "metadata": {
        "id": "Fde_qOUjB0hu"
      },
      "outputs": [],
      "source": []
    },
    {
      "cell_type": "markdown",
      "metadata": {
        "id": "DU04oVSTVorl"
      },
      "source": [
        "# Save Data"
      ]
    },
    {
      "cell_type": "code",
      "execution_count": null,
      "metadata": {
        "id": "pmWW7ovNHTpx"
      },
      "outputs": [],
      "source": [
        "file_name = 'data_cleaned.csv'\n",
        "path_to_save = os.path.join(project_path, file_name)\n",
        "\n",
        "df2.to_csv(path_to_save)\n"
      ]
    }
  ],
  "metadata": {
    "colab": {
      "collapsed_sections": [
        "XnW4bIM4Glgp",
        "2Pg9Ps6KGogF",
        "2KMynfm6GMSo",
        "6hoJ0Hhf_y_6",
        "_9lUHztbJYr3",
        "yAQLsv9JIWim",
        "u8E4EMHBQwba",
        "cMsMAqXA_2F2",
        "HwGOHnXgHx8X",
        "QqH-PVxBH4Ui",
        "9qcAOZKGQqBi",
        "NcOK0mM3D50J",
        "gep0Abl3F34s"
      ],
      "provenance": []
    },
    "kernelspec": {
      "display_name": "Python 3",
      "name": "python3"
    },
    "language_info": {
      "name": "python"
    }
  },
  "nbformat": 4,
  "nbformat_minor": 0
}
